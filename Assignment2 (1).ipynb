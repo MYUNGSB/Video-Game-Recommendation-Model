{
  "nbformat": 4,
  "nbformat_minor": 0,
  "metadata": {
    "colab": {
      "name": "Assignment2.ipynb",
      "provenance": [],
      "collapsed_sections": []
    },
    "kernelspec": {
      "name": "python3",
      "display_name": "Python 3"
    },
    "language_info": {
      "name": "python"
    },
    "widgets": {
      "application/vnd.jupyter.widget-state+json": {
        "bef8357529c2408487cad3588f689ed9": {
          "model_module": "@jupyter-widgets/controls",
          "model_name": "HBoxModel",
          "model_module_version": "1.5.0",
          "state": {
            "_view_name": "HBoxView",
            "_dom_classes": [],
            "_model_name": "HBoxModel",
            "_view_module": "@jupyter-widgets/controls",
            "_model_module_version": "1.5.0",
            "_view_count": null,
            "_view_module_version": "1.5.0",
            "box_style": "",
            "layout": "IPY_MODEL_c02380e00c564bfbb0db5de3de47e6b7",
            "_model_module": "@jupyter-widgets/controls",
            "children": [
              "IPY_MODEL_08619b7fd04b414eb87067431019e834",
              "IPY_MODEL_f810f71df073469d9784074bbde20ff5",
              "IPY_MODEL_41c05ca4724743f09e55f556c623c419"
            ]
          }
        },
        "c02380e00c564bfbb0db5de3de47e6b7": {
          "model_module": "@jupyter-widgets/base",
          "model_name": "LayoutModel",
          "model_module_version": "1.2.0",
          "state": {
            "_view_name": "LayoutView",
            "grid_template_rows": null,
            "right": null,
            "justify_content": null,
            "_view_module": "@jupyter-widgets/base",
            "overflow": null,
            "_model_module_version": "1.2.0",
            "_view_count": null,
            "flex_flow": null,
            "width": null,
            "min_width": null,
            "border": null,
            "align_items": null,
            "bottom": null,
            "_model_module": "@jupyter-widgets/base",
            "top": null,
            "grid_column": null,
            "overflow_y": null,
            "overflow_x": null,
            "grid_auto_flow": null,
            "grid_area": null,
            "grid_template_columns": null,
            "flex": null,
            "_model_name": "LayoutModel",
            "justify_items": null,
            "grid_row": null,
            "max_height": null,
            "align_content": null,
            "visibility": null,
            "align_self": null,
            "height": null,
            "min_height": null,
            "padding": null,
            "grid_auto_rows": null,
            "grid_gap": null,
            "max_width": null,
            "order": null,
            "_view_module_version": "1.2.0",
            "grid_template_areas": null,
            "object_position": null,
            "object_fit": null,
            "grid_auto_columns": null,
            "margin": null,
            "display": null,
            "left": null
          }
        },
        "08619b7fd04b414eb87067431019e834": {
          "model_module": "@jupyter-widgets/controls",
          "model_name": "HTMLModel",
          "model_module_version": "1.5.0",
          "state": {
            "_view_name": "HTMLView",
            "style": "IPY_MODEL_d9b407b5ae624a4ebd3dd5dbabee530c",
            "_dom_classes": [],
            "description": "",
            "_model_name": "HTMLModel",
            "placeholder": "​",
            "_view_module": "@jupyter-widgets/controls",
            "_model_module_version": "1.5.0",
            "value": "",
            "_view_count": null,
            "_view_module_version": "1.5.0",
            "description_tooltip": null,
            "_model_module": "@jupyter-widgets/controls",
            "layout": "IPY_MODEL_fd73b899a48940d393fe503c6c19283f"
          }
        },
        "f810f71df073469d9784074bbde20ff5": {
          "model_module": "@jupyter-widgets/controls",
          "model_name": "FloatProgressModel",
          "model_module_version": "1.5.0",
          "state": {
            "_view_name": "ProgressView",
            "style": "IPY_MODEL_231dd1b5fd4841508409ea5e178e622f",
            "_dom_classes": [],
            "description": "",
            "_model_name": "FloatProgressModel",
            "bar_style": "success",
            "max": 1,
            "_view_module": "@jupyter-widgets/controls",
            "_model_module_version": "1.5.0",
            "value": 1,
            "_view_count": null,
            "_view_module_version": "1.5.0",
            "orientation": "horizontal",
            "min": 0,
            "description_tooltip": null,
            "_model_module": "@jupyter-widgets/controls",
            "layout": "IPY_MODEL_35b4fab6f6fd40de88f6887e7e20225a"
          }
        },
        "41c05ca4724743f09e55f556c623c419": {
          "model_module": "@jupyter-widgets/controls",
          "model_name": "HTMLModel",
          "model_module_version": "1.5.0",
          "state": {
            "_view_name": "HTMLView",
            "style": "IPY_MODEL_b6991955cdbf4f0fb2120984f0848a20",
            "_dom_classes": [],
            "description": "",
            "_model_name": "HTMLModel",
            "placeholder": "​",
            "_view_module": "@jupyter-widgets/controls",
            "_model_module_version": "1.5.0",
            "value": " 2565349/? [04:23&lt;00:00, 9866.00it/s]",
            "_view_count": null,
            "_view_module_version": "1.5.0",
            "description_tooltip": null,
            "_model_module": "@jupyter-widgets/controls",
            "layout": "IPY_MODEL_57d2ccd57ece4141ae14c4e0f0d4ad39"
          }
        },
        "d9b407b5ae624a4ebd3dd5dbabee530c": {
          "model_module": "@jupyter-widgets/controls",
          "model_name": "DescriptionStyleModel",
          "model_module_version": "1.5.0",
          "state": {
            "_view_name": "StyleView",
            "_model_name": "DescriptionStyleModel",
            "description_width": "",
            "_view_module": "@jupyter-widgets/base",
            "_model_module_version": "1.5.0",
            "_view_count": null,
            "_view_module_version": "1.2.0",
            "_model_module": "@jupyter-widgets/controls"
          }
        },
        "fd73b899a48940d393fe503c6c19283f": {
          "model_module": "@jupyter-widgets/base",
          "model_name": "LayoutModel",
          "model_module_version": "1.2.0",
          "state": {
            "_view_name": "LayoutView",
            "grid_template_rows": null,
            "right": null,
            "justify_content": null,
            "_view_module": "@jupyter-widgets/base",
            "overflow": null,
            "_model_module_version": "1.2.0",
            "_view_count": null,
            "flex_flow": null,
            "width": null,
            "min_width": null,
            "border": null,
            "align_items": null,
            "bottom": null,
            "_model_module": "@jupyter-widgets/base",
            "top": null,
            "grid_column": null,
            "overflow_y": null,
            "overflow_x": null,
            "grid_auto_flow": null,
            "grid_area": null,
            "grid_template_columns": null,
            "flex": null,
            "_model_name": "LayoutModel",
            "justify_items": null,
            "grid_row": null,
            "max_height": null,
            "align_content": null,
            "visibility": null,
            "align_self": null,
            "height": null,
            "min_height": null,
            "padding": null,
            "grid_auto_rows": null,
            "grid_gap": null,
            "max_width": null,
            "order": null,
            "_view_module_version": "1.2.0",
            "grid_template_areas": null,
            "object_position": null,
            "object_fit": null,
            "grid_auto_columns": null,
            "margin": null,
            "display": null,
            "left": null
          }
        },
        "231dd1b5fd4841508409ea5e178e622f": {
          "model_module": "@jupyter-widgets/controls",
          "model_name": "ProgressStyleModel",
          "model_module_version": "1.5.0",
          "state": {
            "_view_name": "StyleView",
            "_model_name": "ProgressStyleModel",
            "description_width": "",
            "_view_module": "@jupyter-widgets/base",
            "_model_module_version": "1.5.0",
            "_view_count": null,
            "_view_module_version": "1.2.0",
            "bar_color": null,
            "_model_module": "@jupyter-widgets/controls"
          }
        },
        "35b4fab6f6fd40de88f6887e7e20225a": {
          "model_module": "@jupyter-widgets/base",
          "model_name": "LayoutModel",
          "model_module_version": "1.2.0",
          "state": {
            "_view_name": "LayoutView",
            "grid_template_rows": null,
            "right": null,
            "justify_content": null,
            "_view_module": "@jupyter-widgets/base",
            "overflow": null,
            "_model_module_version": "1.2.0",
            "_view_count": null,
            "flex_flow": null,
            "width": "20px",
            "min_width": null,
            "border": null,
            "align_items": null,
            "bottom": null,
            "_model_module": "@jupyter-widgets/base",
            "top": null,
            "grid_column": null,
            "overflow_y": null,
            "overflow_x": null,
            "grid_auto_flow": null,
            "grid_area": null,
            "grid_template_columns": null,
            "flex": null,
            "_model_name": "LayoutModel",
            "justify_items": null,
            "grid_row": null,
            "max_height": null,
            "align_content": null,
            "visibility": null,
            "align_self": null,
            "height": null,
            "min_height": null,
            "padding": null,
            "grid_auto_rows": null,
            "grid_gap": null,
            "max_width": null,
            "order": null,
            "_view_module_version": "1.2.0",
            "grid_template_areas": null,
            "object_position": null,
            "object_fit": null,
            "grid_auto_columns": null,
            "margin": null,
            "display": null,
            "left": null
          }
        },
        "b6991955cdbf4f0fb2120984f0848a20": {
          "model_module": "@jupyter-widgets/controls",
          "model_name": "DescriptionStyleModel",
          "model_module_version": "1.5.0",
          "state": {
            "_view_name": "StyleView",
            "_model_name": "DescriptionStyleModel",
            "description_width": "",
            "_view_module": "@jupyter-widgets/base",
            "_model_module_version": "1.5.0",
            "_view_count": null,
            "_view_module_version": "1.2.0",
            "_model_module": "@jupyter-widgets/controls"
          }
        },
        "57d2ccd57ece4141ae14c4e0f0d4ad39": {
          "model_module": "@jupyter-widgets/base",
          "model_name": "LayoutModel",
          "model_module_version": "1.2.0",
          "state": {
            "_view_name": "LayoutView",
            "grid_template_rows": null,
            "right": null,
            "justify_content": null,
            "_view_module": "@jupyter-widgets/base",
            "overflow": null,
            "_model_module_version": "1.2.0",
            "_view_count": null,
            "flex_flow": null,
            "width": null,
            "min_width": null,
            "border": null,
            "align_items": null,
            "bottom": null,
            "_model_module": "@jupyter-widgets/base",
            "top": null,
            "grid_column": null,
            "overflow_y": null,
            "overflow_x": null,
            "grid_auto_flow": null,
            "grid_area": null,
            "grid_template_columns": null,
            "flex": null,
            "_model_name": "LayoutModel",
            "justify_items": null,
            "grid_row": null,
            "max_height": null,
            "align_content": null,
            "visibility": null,
            "align_self": null,
            "height": null,
            "min_height": null,
            "padding": null,
            "grid_auto_rows": null,
            "grid_gap": null,
            "max_width": null,
            "order": null,
            "_view_module_version": "1.2.0",
            "grid_template_areas": null,
            "object_position": null,
            "object_fit": null,
            "grid_auto_columns": null,
            "margin": null,
            "display": null,
            "left": null
          }
        }
      }
    }
  },
  "cells": [
    {
      "cell_type": "code",
      "metadata": {
        "colab": {
          "base_uri": "https://localhost:8080/"
        },
        "id": "X21-LG3TBQtR",
        "outputId": "8f30078c-cccf-4df0-919f-bfdd9762f410"
      },
      "source": [
        "!pip install scikit-surprise"
      ],
      "execution_count": null,
      "outputs": [
        {
          "output_type": "stream",
          "name": "stdout",
          "text": [
            "Collecting scikit-surprise\n",
            "  Downloading scikit-surprise-1.1.1.tar.gz (11.8 MB)\n",
            "\u001b[K     |████████████████████████████████| 11.8 MB 4.0 MB/s \n",
            "\u001b[?25hRequirement already satisfied: joblib>=0.11 in /usr/local/lib/python3.7/dist-packages (from scikit-surprise) (1.1.0)\n",
            "Requirement already satisfied: numpy>=1.11.2 in /usr/local/lib/python3.7/dist-packages (from scikit-surprise) (1.19.5)\n",
            "Requirement already satisfied: scipy>=1.0.0 in /usr/local/lib/python3.7/dist-packages (from scikit-surprise) (1.4.1)\n",
            "Requirement already satisfied: six>=1.10.0 in /usr/local/lib/python3.7/dist-packages (from scikit-surprise) (1.15.0)\n",
            "Building wheels for collected packages: scikit-surprise\n",
            "  Building wheel for scikit-surprise (setup.py) ... \u001b[?25l\u001b[?25hdone\n",
            "  Created wheel for scikit-surprise: filename=scikit_surprise-1.1.1-cp37-cp37m-linux_x86_64.whl size=1619433 sha256=04005e6cb4b431daa8e6b377498c679628f776b772714b0617289d5c9ceebe49\n",
            "  Stored in directory: /root/.cache/pip/wheels/76/44/74/b498c42be47b2406bd27994e16c5188e337c657025ab400c1c\n",
            "Successfully built scikit-surprise\n",
            "Installing collected packages: scikit-surprise\n",
            "Successfully installed scikit-surprise-1.1.1\n"
          ]
        }
      ]
    },
    {
      "cell_type": "code",
      "metadata": {
        "id": "FlNOXvao524O"
      },
      "source": [
        "import csv\n",
        "import json\n",
        "import gzip\n",
        "import pandas as pd\n",
        "import numpy as np\n",
        "import urllib.parse\n",
        "import urllib.request\n",
        "import urllib.error\n",
        "import requests\n",
        "import random\n",
        "from collections import defaultdict\n",
        "from bs4 import BeautifulSoup\n",
        "from tqdm.notebook import tqdm\n",
        "from surprise import SVD, Reader, Dataset, accuracy\n",
        "from surprise.model_selection import train_test_split\n",
        "from surprise import NormalPredictor\n",
        "from surprise.model_selection import GridSearchCV"
      ],
      "execution_count": null,
      "outputs": []
    },
    {
      "cell_type": "code",
      "metadata": {
        "colab": {
          "base_uri": "https://localhost:8080/"
        },
        "id": "y08rooMj365Z",
        "outputId": "4e1874ed-c631-46cd-817a-67599001a876"
      },
      "source": [
        "from google.colab import drive\n",
        "drive.mount('/content/drive', force_remount=True)"
      ],
      "execution_count": null,
      "outputs": [
        {
          "output_type": "stream",
          "name": "stdout",
          "text": [
            "Mounted at /content/drive\n"
          ]
        }
      ]
    },
    {
      "cell_type": "markdown",
      "metadata": {
        "id": "XS0RQG_x71oD"
      },
      "source": [
        "Reading the Video Games Ratings from the Amazon Review Data\n",
        "\n",
        "---\n",
        "\n",
        "\n"
      ]
    },
    {
      "cell_type": "code",
      "metadata": {
        "id": "XCawOs6NVuGP"
      },
      "source": [
        "def readGz(path):\n",
        "  for l in gzip.open(path, 'rt'):\n",
        "    yield eval(l)"
      ],
      "execution_count": null,
      "outputs": []
    },
    {
      "cell_type": "code",
      "metadata": {
        "id": "Xirw4-L34zSz"
      },
      "source": [
        "metadata = list(readGz(\"/content/drive/MyDrive/CSE258_Assignment2/meta_Video_Games.json.gz\"))\n",
        "file = open(\"/content/drive/MyDrive/CSE258_Assignment2/Video_Games.csv\")\n",
        "csvreader = csv.reader(file)\n",
        "dataset = []\n",
        "for row in csvreader:\n",
        "  dataset.append(row)"
      ],
      "execution_count": null,
      "outputs": []
    },
    {
      "cell_type": "code",
      "metadata": {
        "id": "lERVQZJ76mhs"
      },
      "source": [
        "df = pd.DataFrame(np.array(dataset), columns=['asin', 'user_id', 'rating', 'unix_time'])"
      ],
      "execution_count": null,
      "outputs": []
    },
    {
      "cell_type": "code",
      "metadata": {
        "colab": {
          "base_uri": "https://localhost:8080/"
        },
        "id": "L5EHFjYP7O8P",
        "outputId": "be030686-530b-45cf-df15-8f3fd7ac6a74"
      },
      "source": [
        "df.head"
      ],
      "execution_count": null,
      "outputs": [
        {
          "output_type": "execute_result",
          "data": {
            "text/plain": [
              "<bound method NDFrame.head of                asin         user_id rating   unix_time\n",
              "0        0439381673  A21ROB4YDOZA5P    1.0  1402272000\n",
              "1        0439381673  A3TNZ2Q5E7HTHD    3.0  1399680000\n",
              "2        0439381673  A1OKRM3QFEATQO    4.0  1391731200\n",
              "3        0439381673  A2XO1JFCNEYV3T    1.0  1391731200\n",
              "4        0439381673  A19WLPIRHD15TH    4.0  1389830400\n",
              "...             ...             ...    ...         ...\n",
              "2565344  B01HJEBIAA   ANGB54K3888S4    5.0  1533081600\n",
              "2565345  B01HJEBIAA  A3TEVKR0ZVQB2T    5.0  1531785600\n",
              "2565346  B01HJEBIAA   ABE7YPWEHNVJZ    5.0  1530835200\n",
              "2565347  B01HJEBIAA  A3ES9QBK3G192O    5.0  1528761600\n",
              "2565348  B01HJEBIAA  A194UPGR3OXZB7    5.0  1524096000\n",
              "\n",
              "[2565349 rows x 4 columns]>"
            ]
          },
          "metadata": {},
          "execution_count": 7
        }
      ]
    },
    {
      "cell_type": "code",
      "metadata": {
        "id": "pVtz2NmwXqGe"
      },
      "source": [
        "asin_map = {}\n",
        "for meta in metadata:\n",
        "  asin_map[meta['asin']] = meta['title']"
      ],
      "execution_count": null,
      "outputs": []
    },
    {
      "cell_type": "markdown",
      "metadata": {
        "id": "Q9-78f7_8Cww"
      },
      "source": [
        "Obtaining Global Data for the Dataset\n"
      ]
    },
    {
      "cell_type": "code",
      "metadata": {
        "id": "p_4bo2MZ7XUW",
        "colab": {
          "base_uri": "https://localhost:8080/"
        },
        "outputId": "00824ca0-5271-4d17-9961-140160cce27d"
      },
      "source": [
        "# Calculating the Mean of the Video Game Ratings\n",
        "df['rating'] = df['rating'].astype(float)\n",
        "print(\"The Global Average of the Video Game Ratings:\", df['rating'].mean())"
      ],
      "execution_count": null,
      "outputs": [
        {
          "output_type": "stream",
          "name": "stdout",
          "text": [
            "The Global Average of the Video Game Ratings: 4.0220948494727224\n"
          ]
        }
      ]
    },
    {
      "cell_type": "code",
      "metadata": {
        "id": "zNXYhdlZ7iAz",
        "colab": {
          "base_uri": "https://localhost:8080/"
        },
        "outputId": "c27a7a45-eedf-4566-ccaf-ed84bb073fd6"
      },
      "source": [
        "# Obtaining the number of unique values\n",
        "nAsins   = len(pd.unique(df['asin']))  \n",
        "nUserIds = len(pd.unique(df['user_id']))\n",
        "\n",
        "print(\"Number of unique ASINs stored:\", nAsins)\n",
        "print(\"Number of unique Users stored:\", nUserIds)"
      ],
      "execution_count": null,
      "outputs": [
        {
          "output_type": "stream",
          "name": "stdout",
          "text": [
            "Number of unique ASINs stored: 71982\n",
            "Number of unique Users stored: 1540618\n"
          ]
        }
      ]
    },
    {
      "cell_type": "code",
      "metadata": {
        "id": "aqgDxn_RFGTG",
        "colab": {
          "base_uri": "https://localhost:8080/"
        },
        "outputId": "8b7d679a-8857-46d8-e274-8384469d396b"
      },
      "source": [
        "# Calculating the standard deviation of the Video Game Ratings\n",
        "df['rating'] = df['rating'].astype(float)\n",
        "print(\"The Global standard deviation of the Video Game Ratings:\", df['rating'].std())"
      ],
      "execution_count": null,
      "outputs": [
        {
          "output_type": "stream",
          "name": "stdout",
          "text": [
            "The Global standard deviation of the Video Game Ratings: 1.405936004591162\n"
          ]
        }
      ]
    },
    {
      "cell_type": "code",
      "metadata": {
        "colab": {
          "base_uri": "https://localhost:8080/"
        },
        "id": "sWBPdErvSFgy",
        "outputId": "c9ef59a2-2b85-4c85-b7de-a6ca791eb809"
      },
      "source": [
        "# Showing the distribution of ratings\n",
        "df['rating'].value_counts(normalize=True)"
      ],
      "execution_count": null,
      "outputs": [
        {
          "output_type": "execute_result",
          "data": {
            "text/plain": [
              "5.0    0.579791\n",
              "4.0    0.160763\n",
              "1.0    0.121578\n",
              "3.0    0.082775\n",
              "2.0    0.055093\n",
              "Name: rating, dtype: float64"
            ]
          },
          "metadata": {},
          "execution_count": 11
        }
      ]
    },
    {
      "cell_type": "code",
      "metadata": {
        "id": "CC3gOXoVFGMV"
      },
      "source": [
        "# Finding the most popular items\n",
        "pop=df['asin'].value_counts()[:10]"
      ],
      "execution_count": null,
      "outputs": []
    },
    {
      "cell_type": "code",
      "metadata": {
        "id": "Usdl4V3HFGOo",
        "colab": {
          "base_uri": "https://localhost:8080/"
        },
        "outputId": "9d706777-0f0f-49e8-ccef-e906980f9056"
      },
      "source": [
        "pop"
      ],
      "execution_count": null,
      "outputs": [
        {
          "output_type": "execute_result",
          "data": {
            "text/plain": [
              "B00178630A    7630\n",
              "B00HTK1NCS    6462\n",
              "B004RMK57U    5135\n",
              "B00KKAQYXM    4359\n",
              "B00JJNQG98    3962\n",
              "B003ZSP0WW    3960\n",
              "B000ZKA0J6    3930\n",
              "B000VJRU44    3634\n",
              "B00E4MQODC    3520\n",
              "B000B9RI14    3345\n",
              "Name: asin, dtype: int64"
            ]
          },
          "metadata": {},
          "execution_count": 13
        }
      ]
    },
    {
      "cell_type": "code",
      "metadata": {
        "id": "x-Qa3VJDFGQz",
        "colab": {
          "base_uri": "https://localhost:8080/"
        },
        "outputId": "e728f675-9494-462b-b552-259653434ff6"
      },
      "source": [
        "for i,p in zip(pop.index,pop):\n",
        "  print(p,asin_map[i])"
      ],
      "execution_count": null,
      "outputs": [
        {
          "output_type": "stream",
          "name": "stdout",
          "text": [
            "7630 Diablo III\n",
            "6462 Redragon M601 Wired Gaming Mouse, Ergonomic, Programmable 6 Buttons, 3200 DPI with Red LED Mouse for Windows PC Games - Black\n",
            "5135 Playstation Plus: 3 Month Membership [Digital Code]\n",
            "4359 HAVIT HV-MS672 3200DPI Wired Mouse, 4 Adjustable DPI Levels, 800/1200/2400/3200DPI, 7 Circular &amp; Breathing LED Light, 6 Buttons (Black)(Updated Version)\n",
            "3962 HyperX Cloud Gaming Headset for PC, Xbox One&sup1;, PS4, PS4 PRO, Xbox One S&sup1;, Nnintedo Switch (KHX-H3CL/WR) - Black\n",
            "3960 Xbox 360 Wireless Controller - Glossy Black\n",
            "3930 StarCraft II: Wings of Liberty\n",
            "3634 Wii Fit Game with Balance Board\n",
            "3520 Logitech G602 Lag-Free Wireless Gaming Mouse &ndash; 11 Programmable Buttons, Up to 2500 DPI\n",
            "3345 Xbox 360 LIVE 1600 Points\n"
          ]
        }
      ]
    },
    {
      "cell_type": "markdown",
      "metadata": {
        "id": "Cx5feKoCaa2g"
      },
      "source": [
        "Similarity Functions"
      ]
    },
    {
      "cell_type": "code",
      "metadata": {
        "colab": {
          "base_uri": "https://localhost:8080/",
          "height": 67,
          "referenced_widgets": [
            "bef8357529c2408487cad3588f689ed9",
            "c02380e00c564bfbb0db5de3de47e6b7",
            "08619b7fd04b414eb87067431019e834",
            "f810f71df073469d9784074bbde20ff5",
            "41c05ca4724743f09e55f556c623c419",
            "d9b407b5ae624a4ebd3dd5dbabee530c",
            "fd73b899a48940d393fe503c6c19283f",
            "231dd1b5fd4841508409ea5e178e622f",
            "35b4fab6f6fd40de88f6887e7e20225a",
            "b6991955cdbf4f0fb2120984f0848a20",
            "57d2ccd57ece4141ae14c4e0f0d4ad39"
          ]
        },
        "id": "bbcEGmpNalHz",
        "outputId": "284ac807-33a2-4ded-c5ea-db37bcde0a46"
      },
      "source": [
        "usersPerItem = defaultdict(set) # Maps an item to the users who rated it\n",
        "itemsPerUser = defaultdict(set) # Maps a user to the items that they rated\n",
        "ratingDict = {} # To retrieve a rating for a specific user/item pair\n",
        "timestampDict = {}\n",
        "print(len(df))\n",
        "for index, d in tqdm(df.iterrows()):\n",
        "    user,item = d['user_id'], d['asin']\n",
        "    usersPerItem[item].add(user)\n",
        "    itemsPerUser[user].add(item)\n",
        "    timestampDict[(user, item)] = d['unix_time']\n",
        "    ratingDict[(user,item)] = d['rating']"
      ],
      "execution_count": null,
      "outputs": [
        {
          "output_type": "stream",
          "name": "stdout",
          "text": [
            "2565349\n"
          ]
        },
        {
          "output_type": "display_data",
          "data": {
            "application/vnd.jupyter.widget-view+json": {
              "model_id": "bef8357529c2408487cad3588f689ed9",
              "version_minor": 0,
              "version_major": 2
            },
            "text/plain": [
              "0it [00:00, ?it/s]"
            ]
          },
          "metadata": {}
        }
      ]
    },
    {
      "cell_type": "code",
      "metadata": {
        "id": "OAznCT6Yami3"
      },
      "source": [
        "userAverages = {}\n",
        "itemAverages = {}\n",
        "\n",
        "for u in itemsPerUser:\n",
        "    rs = [ratingDict[(u,i)] for i in itemsPerUser[u]]\n",
        "    userAverages[u] = sum(rs) / len(rs)\n",
        "    \n",
        "for i in usersPerItem:\n",
        "    rs = [ratingDict[(u,i)] for u in usersPerItem[i]]\n",
        "    itemAverages[i] = sum(rs) / len(rs)"
      ],
      "execution_count": null,
      "outputs": []
    },
    {
      "cell_type": "code",
      "metadata": {
        "id": "Ae3w8E32amgf"
      },
      "source": [
        "def Jaccard(s1, s2):\n",
        "    numer = len(s1.intersection(s2))\n",
        "    denom = len(s1.union(s2))\n",
        "    if denom == 0:\n",
        "        return 0\n",
        "    return numer / denom"
      ],
      "execution_count": null,
      "outputs": []
    },
    {
      "cell_type": "code",
      "metadata": {
        "id": "7Db3E99MamdN"
      },
      "source": [
        "def mostSimilarFast(i, N):\n",
        "    similarities = []\n",
        "    users = usersPerItem[i]\n",
        "    candidateItems = set()\n",
        "    for u in users:\n",
        "        candidateItems = candidateItems.union(itemsPerUser[u])\n",
        "    for i2 in candidateItems:\n",
        "        if i2 == i: continue\n",
        "        sim = Jaccard(users, usersPerItem[i2])\n",
        "        similarities.append((sim,i2))\n",
        "    similarities.sort(reverse=True)\n",
        "    return similarities[:N]"
      ],
      "execution_count": null,
      "outputs": []
    },
    {
      "cell_type": "code",
      "metadata": {
        "colab": {
          "base_uri": "https://localhost:8080/"
        },
        "id": "WcLIjR5eamZ_",
        "outputId": "66b17254-eccd-4312-8c37-d3150d0f0be5"
      },
      "source": [
        "query = df['asin'][0]\n",
        "print(asin_map[query])"
      ],
      "execution_count": null,
      "outputs": [
        {
          "output_type": "stream",
          "name": "stdout",
          "text": [
            "BRAND NEW Learning Company Oregon Trail 5th Edition Jewel Case Swollen Dreams Fears Adventures Rivers\n"
          ]
        }
      ]
    },
    {
      "cell_type": "code",
      "metadata": {
        "id": "OBeHYblhamWU"
      },
      "source": [
        "top10SimilarGames = mostSimilarFast(query, 10)"
      ],
      "execution_count": null,
      "outputs": []
    },
    {
      "cell_type": "code",
      "metadata": {
        "colab": {
          "base_uri": "https://localhost:8080/"
        },
        "id": "mcJCMsbramOx",
        "outputId": "7bf979e5-eef8-4521-8b34-5a07cf74d7d5"
      },
      "source": [
        "for similarGame in top10SimilarGames:\n",
        "  print(similarGame[0], asin_map[similarGame[1]])"
      ],
      "execution_count": null,
      "outputs": [
        {
          "output_type": "stream",
          "name": "stdout",
          "text": [
            "0.02 Secret Mission: The Forgotten Island (PC DVD) (UK IMPORT)\n",
            "0.02 Official Nintendo Game Traveler Case-Aqua Blue (3DS, DSi and DS Lite)\n",
            "0.02 Sim Classics 3: Sim City, Sim Tower, Sim Isle\n",
            "0.0196078431372549 ATV Mudracer [Download]\n",
            "0.019230769230769232 Legends Platinum 10-Pack PC\n",
            "0.019230769230769232 Mysteries of Magic Island (PC CD) (UK IMPORT)\n",
            "0.019230769230769232 SeaWorld Adventure Parks Shamu's Deep Sea Adventure - Game Boy Advance\n",
            "0.018518518518518517 Oregon Trail 2nd Edition\n",
            "0.01818181818181818 Match 3 Quest (4-pack)\n",
            "0.01818181818181818 Pajama Sam 2: Thunder and Lightning Aren&rsquo;t So Frightening [Download]\n"
          ]
        }
      ]
    },
    {
      "cell_type": "markdown",
      "metadata": {
        "id": "Ogycvvm889U2"
      },
      "source": [
        "Code for Recommending New Video Game products to users\n"
      ]
    },
    {
      "cell_type": "code",
      "metadata": {
        "id": "BZLaN5ixSmSu"
      },
      "source": [
        "# Bought/not bought predictions for Video Game Items\n",
        "df = pd.DataFrame(np.array(dataset), columns=['asin', 'user_id', 'rating', 'unix_time'])\n",
        "df = df.sample(frac=1).reset_index(drop=True)\n",
        "train = df.iloc[:750000].to_dict('records')\n",
        "valid = df.iloc[750000:1000000].to_dict('records')\n",
        "test = df.iloc[1000000:].to_dict('records')"
      ],
      "execution_count": null,
      "outputs": []
    },
    {
      "cell_type": "code",
      "metadata": {
        "id": "HkwnPjTxhmSw"
      },
      "source": [
        "# Create new dictionaries to hold information that ties users to items and items to users\n",
        "usersPerItem=defaultdict(set)\n",
        "itemsPerUser=defaultdict(set)\n",
        "for t in train:\n",
        "    u=t['user_id']\n",
        "    i=t['asin']\n",
        "    itemsPerUser[u].add(i)\n",
        "    usersPerItem[i].add(u)"
      ],
      "execution_count": null,
      "outputs": []
    },
    {
      "cell_type": "code",
      "metadata": {
        "id": "WRriSLa3horI"
      },
      "source": [
        "count=[]\n",
        "items=[]\n",
        "for i in usersPerItem:\n",
        "    items.append(i)\n",
        "    count.append(len(usersPerItem[i]))"
      ],
      "execution_count": null,
      "outputs": []
    },
    {
      "cell_type": "code",
      "metadata": {
        "id": "zU3tGny3SrhO"
      },
      "source": [
        "mostPopularItems = pd.DataFrame({'item':items,'count':count})\n",
        "mostPopularItems.sort_values(by='count',ascending=False,inplace=True)"
      ],
      "execution_count": null,
      "outputs": []
    },
    {
      "cell_type": "code",
      "metadata": {
        "id": "Rms7XnZQXru7"
      },
      "source": [
        "usersValid=[]\n",
        "itemsValid=[]\n",
        "boughtValid=[]\n",
        "for v in valid:\n",
        "    usersValid.append(v['user_id'])\n",
        "    itemsValid.append(v['asin'])\n",
        "    boughtValid.append(1)"
      ],
      "execution_count": null,
      "outputs": []
    },
    {
      "cell_type": "code",
      "metadata": {
        "id": "RjijxHdvbD69"
      },
      "source": [
        "# usersPerItem=defaultdict(set)\n",
        "# itemsPerUser=defaultdict(set)\n",
        "# for t in train+valid:\n",
        "#     u=t['user_id']\n",
        "#     i=t['asin']\n",
        "#     itemsPerUser[u].add(i)\n",
        "#     usersPerItem[i].add(u)"
      ],
      "execution_count": null,
      "outputs": []
    },
    {
      "cell_type": "code",
      "metadata": {
        "id": "8fMYJhhPbFIf"
      },
      "source": [
        "uniqueItems=np.unique(np.array(list(usersPerItem.keys())))"
      ],
      "execution_count": null,
      "outputs": []
    },
    {
      "cell_type": "code",
      "metadata": {
        "id": "0CxE5YhObGpb"
      },
      "source": [
        "# Creating the negative set for the Model\n",
        "itemsValidNeg=[]\n",
        "boughtValidNeg=[]\n",
        "for u in usersValid:\n",
        "    temp=random.choice(uniqueItems)\n",
        "    while temp in itemsPerUser[u]:\n",
        "        temp=random.choice(uniqueItems)\n",
        "    itemsValidNeg.append(temp)\n",
        "    boughtValidNeg.append(0)"
      ],
      "execution_count": null,
      "outputs": []
    },
    {
      "cell_type": "code",
      "metadata": {
        "id": "UYvTXd16bCMS"
      },
      "source": [
        "usersValid=usersValid+usersValid\n",
        "itemsValid=itemsValid+itemsValidNeg\n",
        "boughtValid=boughtValid+boughtValidNeg"
      ],
      "execution_count": null,
      "outputs": []
    },
    {
      "cell_type": "markdown",
      "metadata": {
        "id": "bG1EWWBc8F_E"
      },
      "source": [
        "Recommending Items based off of Popularality:"
      ]
    },
    {
      "cell_type": "code",
      "metadata": {
        "id": "u7US1yY6bJfV"
      },
      "source": [
        "def model1(threshold):\n",
        "  result=[]\n",
        "  for t in threshold:\n",
        "    return1=set(mostPopularItems[:int(mostPopularItems.shape[0]/t)].item)\n",
        "    count=0\n",
        "    p1=0\n",
        "    p0=0\n",
        "    for i in range(len(usersValid)):\n",
        "        if itemsValid[i] in return1:\n",
        "            pred=1\n",
        "        else:\n",
        "            pred=0\n",
        "        if pred==boughtValid[i]:\n",
        "            count+=1\n",
        "        if pred==1:\n",
        "          p1+=1\n",
        "        else:\n",
        "          p0+=1\n",
        "\n",
        "    result.append((count/len(usersValid),count,p0,p1,t))\n",
        "  result.sort()\n",
        "  print(result)\n",
        "  return result"
      ],
      "execution_count": null,
      "outputs": []
    },
    {
      "cell_type": "code",
      "metadata": {
        "colab": {
          "base_uri": "https://localhost:8080/"
        },
        "id": "qaqmkmc34cCR",
        "outputId": "2d6fc09b-a541-41e9-fb3c-f6c7a177ebae"
      },
      "source": [
        "import time\n",
        "start = time.time() \n",
        "model1([5.8])# runtime: 0s\n",
        "print(\"time :\", time.time() - start)"
      ],
      "execution_count": null,
      "outputs": [
        {
          "output_type": "stream",
          "name": "stdout",
          "text": [
            "[(0.804654, 402327, 261243, 238757, 5.8)]\n",
            "time : 0.31530165672302246\n"
          ]
        }
      ]
    },
    {
      "cell_type": "code",
      "metadata": {
        "colab": {
          "base_uri": "https://localhost:8080/"
        },
        "id": "9dBoMIg2XYcT",
        "outputId": "26bb5a02-fcf5-49f0-cd81-6ebead62d3a6"
      },
      "source": [
        "start = time.time() \n",
        "model1([2])# runtime: 0s\n",
        "print(\"time :\", time.time() - start)"
      ],
      "execution_count": null,
      "outputs": [
        {
          "output_type": "stream",
          "name": "stdout",
          "text": [
            "[(0.716266, 358133, 141879, 358121, 2)]\n",
            "time : 0.3650858402252197\n"
          ]
        }
      ]
    },
    {
      "cell_type": "code",
      "metadata": {
        "id": "0m3fUbvobK-k"
      },
      "source": [
        "def Jaccard(s1, s2):\n",
        "    numer = len(s1.intersection(s2))\n",
        "    denom = len(s1.union(s2))\n",
        "    if denom == 0:\n",
        "        return 0\n",
        "    return numer / denom"
      ],
      "execution_count": null,
      "outputs": []
    },
    {
      "cell_type": "code",
      "metadata": {
        "id": "a11UXrulbNj4"
      },
      "source": [
        "def mostSimilar(r1,r2):\n",
        "    return Jaccard(usersPerItem[r1],usersPerItem[r2])"
      ],
      "execution_count": null,
      "outputs": []
    },
    {
      "cell_type": "code",
      "metadata": {
        "id": "-dBtwozsFUkP"
      },
      "source": [
        ""
      ],
      "execution_count": null,
      "outputs": []
    },
    {
      "cell_type": "code",
      "metadata": {
        "id": "wN-p1VRAbCPA"
      },
      "source": [
        "def model2(m,r):\n",
        "  result=[]\n",
        "  for para1,para2 in zip(m,r):\n",
        "    predQ4=[]\n",
        "    return1=set(mostPopularItems[:int(mostPopularItems.shape[0]/para2)].item)\n",
        "    for u,r1 in zip(usersValid,itemsValid):\n",
        "        if len(usersPerItem[r1])==0:\n",
        "            if r1 in return1:\n",
        "                predQ4.append(1)\n",
        "            else:\n",
        "                predQ4.append(0)\n",
        "        else:\n",
        "            max=0\n",
        "            for r2 in itemsPerUser[u]:\n",
        "                if mostSimilar(r1,r2) >max:\n",
        "                    max=mostSimilar(r1,r2)\n",
        "            if max>para1:\n",
        "                predQ4.append(1)\n",
        "            else:\n",
        "                if r1 in return1:\n",
        "                    predQ4.append(1)\n",
        "                else:\n",
        "                    predQ4.append(0)\n",
        "    count=0\n",
        "    p1=0\n",
        "    p0=0\n",
        "    for train,pred in zip(boughtValid,predQ4):\n",
        "        if pred==0:\n",
        "          p0+=1\n",
        "        else:\n",
        "          p1+=1\n",
        "        if train==pred:\n",
        "            count+=1\n",
        "    result.append((count/500000,p0,p1,para1,para2))\n",
        "  result.sort()\n",
        "  print(result)"
      ],
      "execution_count": null,
      "outputs": []
    },
    {
      "cell_type": "code",
      "metadata": {
        "colab": {
          "base_uri": "https://localhost:8080/"
        },
        "id": "mMnPYGVyLI5H",
        "outputId": "51039d37-8927-4174-d582-f307ed9e7f3e"
      },
      "source": [
        "#import time\n",
        "start = time.time() \n",
        "model2(np.arange(0.05,0.06,0.01),np.arange(5.5,5.6,0.1)) # runtime: 10s\n",
        "print(\"time :\", time.time() - start)"
      ],
      "execution_count": null,
      "outputs": [
        {
          "output_type": "stream",
          "name": "stdout",
          "text": [
            "[(0.805828, 256036, 243964, 0.05, 5.5)]\n",
            "time : 12.586409091949463\n"
          ]
        }
      ]
    },
    {
      "cell_type": "markdown",
      "metadata": {
        "id": "2zM3hWXv8JtU"
      },
      "source": [
        "Jaccard+Popular Items:"
      ]
    },
    {
      "cell_type": "code",
      "metadata": {
        "id": "0I44bsIEbCRT"
      },
      "source": [
        "# count=0\n",
        "# p1=0\n",
        "# p0=0\n",
        "# for train,pred in zip(boughtValid,predQ4):\n",
        "#     if pred==0:\n",
        "#       p0+=1\n",
        "#     else:\n",
        "#       p1+=1\n",
        "#     if train==pred:\n",
        "#         count+=1\n",
        "# print(count,p0,p1,count/500000)\n"
      ],
      "execution_count": null,
      "outputs": []
    },
    {
      "cell_type": "code",
      "metadata": {
        "id": "-HEM0L7sbCTl"
      },
      "source": [
        "#0.807672"
      ],
      "execution_count": null,
      "outputs": []
    },
    {
      "cell_type": "code",
      "metadata": {
        "id": "JcHTAEIQhzh-"
      },
      "source": [
        "# Applying to test set"
      ],
      "execution_count": null,
      "outputs": []
    },
    {
      "cell_type": "code",
      "metadata": {
        "id": "UFl654g1CQID"
      },
      "source": [
        "df = pd.DataFrame(np.array(dataset), columns=['asin', 'user_id', 'rating', 'unix_time'])"
      ],
      "execution_count": null,
      "outputs": []
    },
    {
      "cell_type": "code",
      "metadata": {
        "id": "R0t1od-2CQKd"
      },
      "source": [
        "df = df.sample(frac=1).reset_index(drop=True)\n",
        "train=df.iloc[:1000000].to_dict('records')\n",
        "test=df.iloc[1000000:].to_dict('records')"
      ],
      "execution_count": null,
      "outputs": []
    },
    {
      "cell_type": "code",
      "metadata": {
        "id": "-Y4KTkFFCdb0"
      },
      "source": [
        "usersPerItem=defaultdict(set)\n",
        "itemsPerUser=defaultdict(set)\n",
        "for t in train:\n",
        "    u=t['user_id']\n",
        "    i=t['asin']\n",
        "    itemsPerUser[u].add(i)\n",
        "    usersPerItem[i].add(u)"
      ],
      "execution_count": null,
      "outputs": []
    },
    {
      "cell_type": "code",
      "metadata": {
        "id": "XwBc136lDFmH"
      },
      "source": [
        "count=[]\n",
        "items=[]\n",
        "for i in usersPerItem:\n",
        "    items.append(i)\n",
        "    count.append(len(usersPerItem[i]))"
      ],
      "execution_count": null,
      "outputs": []
    },
    {
      "cell_type": "code",
      "metadata": {
        "id": "uFbd0b51DGL4"
      },
      "source": [
        "mostPopularItems=pd.DataFrame({'item':items,'count':count})\n",
        "mostPopularItems.sort_values(by='count',ascending=False,inplace=True)"
      ],
      "execution_count": null,
      "outputs": []
    },
    {
      "cell_type": "code",
      "metadata": {
        "id": "xzgrcf-EC6CX"
      },
      "source": [
        "usersTest=[]\n",
        "itemsTest=[]\n",
        "boughtTest=[]\n",
        "for t in test:\n",
        "    usersTest.append(t['user_id'])\n",
        "    itemsTest.append(t['asin'])\n",
        "    boughtTest.append(1)"
      ],
      "execution_count": null,
      "outputs": []
    },
    {
      "cell_type": "code",
      "metadata": {
        "id": "qSa077reCQMx"
      },
      "source": [
        "uniqueItems=np.unique(np.array(list(usersPerItem.keys())))"
      ],
      "execution_count": null,
      "outputs": []
    },
    {
      "cell_type": "code",
      "metadata": {
        "id": "DP66HGkLCnBZ"
      },
      "source": [
        "itemsTestNeg=[]\n",
        "boughtTestNeg=[]\n",
        "for u in usersTest:\n",
        "    temp=random.choice(uniqueItems)\n",
        "    while temp in itemsPerUser[u]:\n",
        "        temp=random.choice(uniqueItems)\n",
        "    itemsTestNeg.append(temp)\n",
        "    boughtTestNeg.append(0)"
      ],
      "execution_count": null,
      "outputs": []
    },
    {
      "cell_type": "code",
      "metadata": {
        "id": "9R6I7sBsCttX"
      },
      "source": [
        "usersTest=usersTest+usersTest\n",
        "itemsTest=itemsTest+itemsTestNeg\n",
        "boughtTest=boughtTest+boughtTestNeg"
      ],
      "execution_count": null,
      "outputs": []
    },
    {
      "cell_type": "code",
      "metadata": {
        "id": "ft2l4O04CQO-"
      },
      "source": [
        "predQ4=[]\n",
        "return1=set(mostPopularItems[:int(mostPopularItems.shape[0]/5.5)].item)\n",
        "for u,r1 in zip(usersTest,itemsTest):\n",
        "    if len(usersPerItem[r1])==0:\n",
        "        if r1 in return1:\n",
        "            predQ4.append(1)\n",
        "        else:\n",
        "            predQ4.append(0)\n",
        "    else:\n",
        "        max=0\n",
        "        for r2 in itemsPerUser[u]:\n",
        "            if mostSimilar(r1,r2) >max:\n",
        "                max=mostSimilar(r1,r2)\n",
        "        if max>0.05:\n",
        "            predQ4.append(1)\n",
        "        else:\n",
        "            if r1 in return1:\n",
        "                predQ4.append(1)\n",
        "            else:\n",
        "                predQ4.append(0)"
      ],
      "execution_count": null,
      "outputs": []
    },
    {
      "cell_type": "code",
      "metadata": {
        "colab": {
          "base_uri": "https://localhost:8080/"
        },
        "id": "MrZXo8JmD0Rv",
        "outputId": "84bcad8a-dab8-40a9-8307-4fde4354654a"
      },
      "source": [
        "count=0\n",
        "p0=0\n",
        "p1=0\n",
        "for train,pred in zip(boughtTest,predQ4):\n",
        "    if train==pred:\n",
        "        count+=1\n",
        "    if pred==1:\n",
        "      p1+=1\n",
        "    else:\n",
        "      p0+=1\n",
        "print(count,p0,p1,count/len(boughtTest))"
      ],
      "execution_count": null,
      "outputs": [
        {
          "output_type": "stream",
          "name": "stdout",
          "text": [
            "2549379 1578372 1552326 0.8143164878886434\n"
          ]
        }
      ]
    },
    {
      "cell_type": "code",
      "metadata": {
        "colab": {
          "base_uri": "https://localhost:8080/"
        },
        "id": "CMKVGvR_EXQH",
        "outputId": "1f944d3c-700f-4d77-c944-af700f4f73b2"
      },
      "source": [
        "len(test)"
      ],
      "execution_count": null,
      "outputs": [
        {
          "output_type": "execute_result",
          "data": {
            "text/plain": [
              "1565349"
            ]
          },
          "metadata": {},
          "execution_count": 50
        }
      ]
    },
    {
      "cell_type": "markdown",
      "metadata": {
        "id": "iokqzKs4vBca"
      },
      "source": [
        "# Code that is no longer in use"
      ]
    },
    {
      "cell_type": "code",
      "metadata": {
        "id": "PwP4b8Mo89j2"
      },
      "source": [
        "#I don't know why but I cannot run for loop by using pandas dataframe. So I create dictionary.\n",
        "\n",
        "\n",
        "allRatings = df.to_dict('records')\n",
        "userSet = set()\n",
        "itemSet = set()\n",
        "buySet = set()\n",
        "\n",
        "for d in allRatings:\n",
        "    userSet.add(d['user_id'])\n",
        "    itemSet.add(d['asin'])\n",
        "    buySet.add((d['user_id'],d['asin']))\n"
      ],
      "execution_count": null,
      "outputs": []
    },
    {
      "cell_type": "code",
      "metadata": {
        "colab": {
          "base_uri": "https://localhost:8080/",
          "height": 423
        },
        "id": "oQxYs8wiBZlz",
        "outputId": "47992112-12f8-4d07-e1c5-0011483ae3a9"
      },
      "source": [
        "df2 = df.sample(frac = 1).reset_index()\n",
        "df2"
      ],
      "execution_count": null,
      "outputs": [
        {
          "output_type": "execute_result",
          "data": {
            "text/html": [
              "<div>\n",
              "<style scoped>\n",
              "    .dataframe tbody tr th:only-of-type {\n",
              "        vertical-align: middle;\n",
              "    }\n",
              "\n",
              "    .dataframe tbody tr th {\n",
              "        vertical-align: top;\n",
              "    }\n",
              "\n",
              "    .dataframe thead th {\n",
              "        text-align: right;\n",
              "    }\n",
              "</style>\n",
              "<table border=\"1\" class=\"dataframe\">\n",
              "  <thead>\n",
              "    <tr style=\"text-align: right;\">\n",
              "      <th></th>\n",
              "      <th>index</th>\n",
              "      <th>asin</th>\n",
              "      <th>user_id</th>\n",
              "      <th>rating</th>\n",
              "      <th>unix_time</th>\n",
              "    </tr>\n",
              "  </thead>\n",
              "  <tbody>\n",
              "    <tr>\n",
              "      <th>0</th>\n",
              "      <td>694019</td>\n",
              "      <td>B0053BG370</td>\n",
              "      <td>A3HP5XBZIBOVXM</td>\n",
              "      <td>3.0</td>\n",
              "      <td>1363219200</td>\n",
              "    </tr>\n",
              "    <tr>\n",
              "      <th>1</th>\n",
              "      <td>2303300</td>\n",
              "      <td>B003NSLGW2</td>\n",
              "      <td>AGNOXS0B4HK9A</td>\n",
              "      <td>5.0</td>\n",
              "      <td>1483315200</td>\n",
              "    </tr>\n",
              "    <tr>\n",
              "      <th>2</th>\n",
              "      <td>694188</td>\n",
              "      <td>B000B43OY4</td>\n",
              "      <td>ACW1Q5ZX1A31W</td>\n",
              "      <td>5.0</td>\n",
              "      <td>1135036800</td>\n",
              "    </tr>\n",
              "    <tr>\n",
              "      <th>3</th>\n",
              "      <td>89546</td>\n",
              "      <td>B00PV2S6EE</td>\n",
              "      <td>A2G76UOW1TO64M</td>\n",
              "      <td>5.0</td>\n",
              "      <td>1438128000</td>\n",
              "    </tr>\n",
              "    <tr>\n",
              "      <th>4</th>\n",
              "      <td>2231838</td>\n",
              "      <td>B0016BVY7U</td>\n",
              "      <td>A1GD1G8XXPRYQ8</td>\n",
              "      <td>1.0</td>\n",
              "      <td>1243641600</td>\n",
              "    </tr>\n",
              "    <tr>\n",
              "      <th>...</th>\n",
              "      <td>...</td>\n",
              "      <td>...</td>\n",
              "      <td>...</td>\n",
              "      <td>...</td>\n",
              "      <td>...</td>\n",
              "    </tr>\n",
              "    <tr>\n",
              "      <th>2565344</th>\n",
              "      <td>2214528</td>\n",
              "      <td>B001B1W3GG</td>\n",
              "      <td>A3UCQTQHKCSV16</td>\n",
              "      <td>5.0</td>\n",
              "      <td>1447804800</td>\n",
              "    </tr>\n",
              "    <tr>\n",
              "      <th>2565345</th>\n",
              "      <td>1946637</td>\n",
              "      <td>B0073ESYZO</td>\n",
              "      <td>A3EW46QE5T7VUO</td>\n",
              "      <td>5.0</td>\n",
              "      <td>1409356800</td>\n",
              "    </tr>\n",
              "    <tr>\n",
              "      <th>2565346</th>\n",
              "      <td>726051</td>\n",
              "      <td>B005V0TU1O</td>\n",
              "      <td>AA78TCLHXPJOK</td>\n",
              "      <td>5.0</td>\n",
              "      <td>1412553600</td>\n",
              "    </tr>\n",
              "    <tr>\n",
              "      <th>2565347</th>\n",
              "      <td>1061922</td>\n",
              "      <td>B000XJNTNS</td>\n",
              "      <td>A31OPHKP9PEI2Y</td>\n",
              "      <td>5.0</td>\n",
              "      <td>1453852800</td>\n",
              "    </tr>\n",
              "    <tr>\n",
              "      <th>2565348</th>\n",
              "      <td>1644954</td>\n",
              "      <td>B0000ARQMW</td>\n",
              "      <td>A2205U2TNZBHI</td>\n",
              "      <td>4.0</td>\n",
              "      <td>1068768000</td>\n",
              "    </tr>\n",
              "  </tbody>\n",
              "</table>\n",
              "<p>2565349 rows × 5 columns</p>\n",
              "</div>"
            ],
            "text/plain": [
              "           index        asin         user_id rating   unix_time\n",
              "0         694019  B0053BG370  A3HP5XBZIBOVXM    3.0  1363219200\n",
              "1        2303300  B003NSLGW2   AGNOXS0B4HK9A    5.0  1483315200\n",
              "2         694188  B000B43OY4   ACW1Q5ZX1A31W    5.0  1135036800\n",
              "3          89546  B00PV2S6EE  A2G76UOW1TO64M    5.0  1438128000\n",
              "4        2231838  B0016BVY7U  A1GD1G8XXPRYQ8    1.0  1243641600\n",
              "...          ...         ...             ...    ...         ...\n",
              "2565344  2214528  B001B1W3GG  A3UCQTQHKCSV16    5.0  1447804800\n",
              "2565345  1946637  B0073ESYZO  A3EW46QE5T7VUO    5.0  1409356800\n",
              "2565346   726051  B005V0TU1O   AA78TCLHXPJOK    5.0  1412553600\n",
              "2565347  1061922  B000XJNTNS  A31OPHKP9PEI2Y    5.0  1453852800\n",
              "2565348  1644954  B0000ARQMW   A2205U2TNZBHI    4.0  1068768000\n",
              "\n",
              "[2565349 rows x 5 columns]"
            ]
          },
          "metadata": {},
          "execution_count": 52
        }
      ]
    },
    {
      "cell_type": "code",
      "metadata": {
        "colab": {
          "base_uri": "https://localhost:8080/"
        },
        "id": "cMHIZAhdBynB",
        "outputId": "96e9eb55-00c9-4750-d2c3-0913d5932e51"
      },
      "source": [
        "len(df2)"
      ],
      "execution_count": null,
      "outputs": [
        {
          "output_type": "execute_result",
          "data": {
            "text/plain": [
              "2565349"
            ]
          },
          "metadata": {},
          "execution_count": 53
        }
      ]
    },
    {
      "cell_type": "code",
      "metadata": {
        "id": "JCRynbmv9WmZ"
      },
      "source": [
        "# I set Train and valid based on rating prediction model\n",
        "df2 = df.sample(frac = 1) # if we do not shuffle, it shows very low accuracy\n",
        "ratingsValid = df2[750000:1000000]\n",
        "ratingsValid = ratingsValid.to_dict('records')\n",
        "ratingsTrain = df2[:750000]\n",
        "ratingsTrain = ratingsTrain.to_dict('records')"
      ],
      "execution_count": null,
      "outputs": []
    },
    {
      "cell_type": "code",
      "metadata": {
        "id": "Q6PyXc-U_WFp"
      },
      "source": [
        "lUserSet = list(userSet)\n",
        "lItemSet = list(itemSet)\n",
        "\n",
        "notBuy = set()\n",
        "for d in ratingsValid:\n",
        "    #u = random.choice(lUserSet)\n",
        "    i = random.choice(lItemSet)\n",
        "    if (d['user_id'],d['asin']) in buySet or (d['user_id'],d['asin']) in notBuy: continue\n",
        "    notBuy.add((d['user_id'],d['asin']))\n",
        "\n",
        "buyValid = set()\n",
        "for d in ratingsValid:\n",
        "    buyValid.add((d['user_id'],d['asin']))"
      ],
      "execution_count": null,
      "outputs": []
    },
    {
      "cell_type": "code",
      "metadata": {
        "id": "ynGr4Zte_Zlt"
      },
      "source": [
        "ratingsPerUser = defaultdict(list)\n",
        "ratingsPerItem = defaultdict(list)\n",
        "for d in ratingsTrain:\n",
        "    r = float(d['rating'])\n",
        "    ratingsPerUser[d['user_id']].append((d['asin'],d['rating']))\n",
        "    ratingsPerItem[d['asin']].append((d['user_id'],d['rating']))"
      ],
      "execution_count": null,
      "outputs": []
    },
    {
      "cell_type": "code",
      "metadata": {
        "id": "B9MY5RcR_cPN"
      },
      "source": [
        "# Need for loop or whatever that we can find the ideal parameter\n",
        "correct = 0\n",
        "p0, p1 = 0,0\n",
        "for (label,sample) in [(1, buyValid), (0, notBuy)]:\n",
        "    for (u,b) in sample:\n",
        "        maxSim = 0\n",
        "        users = set(ratingsPerItem[b])\n",
        "        for b2,_ in ratingsPerUser[u]:\n",
        "            sim = Jaccard(users,set(ratingsPerItem[b2]))\n",
        "            if sim > maxSim:\n",
        "                maxSim = sim\n",
        "        pred = 0\n",
        "        if maxSim > 0.025 or len(ratingsPerItem[b]) > 60: #those number should be changed\n",
        "            pred = 1\n",
        "            p1 += 1\n",
        "        else:\n",
        "            p0 += 1\n",
        "        if pred == label:\n",
        "            correct += 1"
      ],
      "execution_count": null,
      "outputs": []
    },
    {
      "cell_type": "code",
      "metadata": {
        "colab": {
          "base_uri": "https://localhost:8080/"
        },
        "id": "6urie05W_d7V",
        "outputId": "d4001de0-2e03-4569-8a12-ce7826bb76a0"
      },
      "source": [
        "correct, p0, p1   #by using correct, we need to find a set of parameters that makes the largest value\n",
        "# need to modified, it is impossible that correct = p1"
      ],
      "execution_count": null,
      "outputs": [
        {
          "output_type": "execute_result",
          "data": {
            "text/plain": [
              "(135154, 114115, 135154)"
            ]
          },
          "metadata": {},
          "execution_count": 58
        }
      ]
    },
    {
      "cell_type": "code",
      "metadata": {
        "id": "cmGowwCsoAE9"
      },
      "source": [
        ""
      ],
      "execution_count": null,
      "outputs": []
    },
    {
      "cell_type": "markdown",
      "metadata": {
        "id": "OE5dKBfFoAZF"
      },
      "source": [
        ""
      ]
    },
    {
      "cell_type": "code",
      "metadata": {
        "id": "Amdpz1_CAvlS"
      },
      "source": [
        "reader = Reader(rating_scale=(1.0, 5.0))\n",
        "trainingData = Dataset.load_from_df(df[['asin', 'user_id', 'rating'][:1000000]], reader)\n",
        "trainset, testset = train_test_split(trainingData, test_size=.25)\n",
        "validationData = Dataset.load_from_df(df[['asin', 'user_id', 'rating'][1000000:]], reader)"
      ],
      "execution_count": null,
      "outputs": []
    },
    {
      "cell_type": "code",
      "metadata": {
        "id": "Q72Dcr2gCrJ-"
      },
      "source": [
        "param_grid = {'n_factors': [5, 25, 50, 75, 100],'n_epochs': [20, 25, 30], 'lr_all': [0.0015,0.002,0.0025,0.005],'reg_all':[0.05,0.065, 0.070, 0.075]}\n",
        "gs = GridSearchCV(SVD, param_grid, measures=['mse'], cv=3)\n",
        "gs.fit(data)\n",
        "print(gs.best_params['mse'])"
      ],
      "execution_count": null,
      "outputs": []
    },
    {
      "cell_type": "code",
      "metadata": {
        "id": "ZDD2Av7UC9gZ"
      },
      "source": [
        "model = SVD()"
      ],
      "execution_count": null,
      "outputs": []
    },
    {
      "cell_type": "code",
      "metadata": {
        "id": "SLDs_jMOC1_y"
      },
      "source": [
        "model.fit(trainset)\n",
        "predictions = model.test(testset)"
      ],
      "execution_count": null,
      "outputs": []
    },
    {
      "cell_type": "code",
      "metadata": {
        "colab": {
          "base_uri": "https://localhost:8080/"
        },
        "id": "ZM2Hx7aGEIMn",
        "outputId": "51f017db-8226-4ba2-9840-c584c383bb66"
      },
      "source": [
        "accuracy.mse(predictions, verbose=True)"
      ],
      "execution_count": null,
      "outputs": [
        {
          "output_type": "stream",
          "name": "stdout",
          "text": [
            "MSE: 1.6339\n"
          ]
        },
        {
          "output_type": "execute_result",
          "data": {
            "text/plain": [
              "1.633882794975756"
            ]
          },
          "metadata": {},
          "execution_count": 48
        }
      ]
    },
    {
      "cell_type": "code",
      "metadata": {
        "id": "HGvS7JrmEvAg"
      },
      "source": [
        "# This code does not work. Please use it as reference\n",
        "predictions = open(\"HWpredictions_Rated.txt\", 'w')\n",
        "for l in open(\"stub_Rated.txt\"):\n",
        "    if l.startswith(\"user_id\"):\n",
        "        predictions.write(l)\n",
        "        continue\n",
        "    u,b = l.strip().split('-')\n",
        "    try:\n",
        "      innerUID = algo.trainset.to_inner_uid(u)\n",
        "    except ValueError:\n",
        "      innerUID = None\n",
        "    \n",
        "    try:\n",
        "      innerIID = algo.trainset.to_inner_iid(b)\n",
        "    except ValueError:\n",
        "      innerIID = None\n",
        "    bu = 0\n",
        "    bi = 0\n",
        "    if innerUID != None:\n",
        "        bu = algo.bu[innerUID]\n",
        "    if innerIID != None:\n",
        "        bi = algo.bi[innerIID]\n",
        "    _ = predictions.write(u + '-' + b + ',' + str(alpha + bu + bi) + '\\n')\n",
        "\n",
        "predictions.close()"
      ],
      "execution_count": null,
      "outputs": []
    }
  ]
}